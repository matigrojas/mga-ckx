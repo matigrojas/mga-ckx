{
 "cells": [
  {
   "cell_type": "code",
   "execution_count": 1,
   "metadata": {},
   "outputs": [],
   "source": [
    "from mga import *\n",
    "from selection import *\n",
    "from ckx import *\n",
    "from mutation import *\n",
    "from problem import *\n",
    "from metrics import classification_metrics_kfold"
   ]
  },
  {
   "cell_type": "code",
   "execution_count": 2,
   "metadata": {},
   "outputs": [],
   "source": [
    "dataset = \"BreastCancer\" #Options: BreastCancer, diabetes, Liver, parkinsons, Vertebral\n",
    "dataset_name = f'{dataset}/{dataset}'\n",
    "route_dataset = \".\\\\data\\\\\""
   ]
  },
  {
   "cell_type": "code",
   "execution_count": 3,
   "metadata": {},
   "outputs": [
    {
     "name": "stdout",
     "output_type": "stream",
     "text": [
      "Progress: 11/10000, Fitness: 0.26401813332449797\n",
      "Progress: 17/10000, Fitness: 0.26401813332449797\n",
      "Progress: 23/10000, Fitness: 0.25590699401860617\n",
      "Progress: 29/10000, Fitness: 0.25369293912130303\n",
      "Progress: 35/10000, Fitness: 0.23791099089932452\n",
      "Progress: 41/10000, Fitness: 0.23791099089932452\n",
      "Progress: 47/10000, Fitness: 0.23452138066696918\n",
      "Progress: 53/10000, Fitness: 0.23452138066696918\n",
      "Progress: 59/10000, Fitness: 0.23452138066696918\n",
      "Progress: 65/10000, Fitness: 0.2318969318412681\n",
      "Progress: 71/10000, Fitness: 0.2304084844276765\n",
      "Progress: 77/10000, Fitness: 0.22831235155934956\n",
      "Progress: 83/10000, Fitness: 0.21887681305244241\n",
      "Progress: 89/10000, Fitness: 0.207701488458541\n",
      "Progress: 95/10000, Fitness: 0.20652057696835224\n",
      "Progress: 101/10000, Fitness: 0.20514905162628566\n",
      "Progress: 107/10000, Fitness: 0.19365548256146647\n"
     ]
    }
   ],
   "source": [
    "problem = ffnnKFold(route_dataset, dataset_name)\n",
    "\n",
    "algorithm = MicroGAFFNN(\n",
    "    problem=problem,\n",
    "    mutation=UniformMutation(0.01),\n",
    "    crossover=CrossKnowledgeCrossover(0.9),\n",
    "    selection=BinaryTournamentSelection(),\n",
    "    max_evaluations=10000\n",
    ")\n",
    "\n",
    "algorithm.run()"
   ]
  },
  {
   "cell_type": "code",
   "execution_count": null,
   "metadata": {},
   "outputs": [],
   "source": [
    "result = algorithm.get_result()\n",
    "classification_metrics_kfold(result.variables, route_dataset, dataset_name)"
   ]
  }
 ],
 "metadata": {
  "kernelspec": {
   "display_name": "Python 3",
   "language": "python",
   "name": "python3"
  },
  "language_info": {
   "codemirror_mode": {
    "name": "ipython",
    "version": 3
   },
   "file_extension": ".py",
   "mimetype": "text/x-python",
   "name": "python",
   "nbconvert_exporter": "python",
   "pygments_lexer": "ipython3",
   "version": "3.7.9"
  },
  "orig_nbformat": 4
 },
 "nbformat": 4,
 "nbformat_minor": 2
}
